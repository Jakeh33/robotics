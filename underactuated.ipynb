{
  "nbformat": 4,
  "nbformat_minor": 0,
  "metadata": {
    "colab": {
      "name": "underactuated.ipynb",
      "provenance": [],
      "collapsed_sections": [],
      "authorship_tag": "ABX9TyMG3we4v2F8lOPuBFsFgjyS",
      "include_colab_link": true
    },
    "kernelspec": {
      "name": "python3",
      "display_name": "Python 3"
    }
  },
  "cells": [
    {
      "cell_type": "markdown",
      "metadata": {
        "id": "view-in-github",
        "colab_type": "text"
      },
      "source": [
        "<a href=\"https://colab.research.google.com/github/Jakeh33/robotics/blob/main/underactuated.ipynb\" target=\"_parent\"><img src=\"https://colab.research.google.com/assets/colab-badge.svg\" alt=\"Open In Colab\"/></a>"
      ]
    },
    {
      "cell_type": "markdown",
      "metadata": {
        "id": "qBPLMR-Vj-RH"
      },
      "source": [
        "#第一章 全驱动与欠驱动\r\n",
        "大部分机器人均为欠驱动，现在的机器人在模仿自然界生物（人、鸟、昆虫等）动态运动方面还远远不足。\r\n",
        "\r\n",
        "机器人距离像人一样能够灵敏和优秀地执行基本的操作物体任务还有很远的距离。\r\n",
        "\r\n",
        "经典控制技术讲究利用反馈来抵消模型动态，而想要获得出色的动态性能（效率、敏捷、鲁棒性）我们需要设计能够利用模型动态的控制器。\r\n",
        "\r\n",
        "## 基础概念定义\r\n",
        "1. 根据牛顿力学，$F=ma$,机械系统的动态为二阶（加速度为位置的二阶导），给出位置向量$\\pmb{q}$，速度向量$\\pmb{\\dot{q}}$，以及时间（很可能）。二阶控制动态系统的一般形式为$\\pmb{\\ddot{q}}=\\pmb{f}(\\pmb{q},\\pmb{\\dot{q}},\\pmb{u},t)$。其中$\\pmb{u}$是控制向量。称为**欠驱动控制微分方程**。  \r\n",
        "当f是满射时，即对任意状态和时间下都存在一个控制量u能够获得期望响应$\\pmb{\\ddot{q}}$，称为全驱动。（简单讲就是执行器数等于自由度数，通过控制执行器能够达到所有状态）\r\n",
        "2. 我们更关心控制仿射（control affine）的情况，一般形式改写为  \r\n",
        "$\\pmb{\\ddot{q}}=\\pmb{f_1}(\\pmb{q},\\pmb{\\dot{q}},t)+\\pmb{f_2}(\\pmb{q},\\pmb{\\dot{q}},t)\\pmb{u}$  \r\n",
        "当$rank[\\pmb{f_2}(\\pmb{q},\\pmb{\\dot{q}},t)] < dim[\\pmb{q}]$，系统欠驱动。  \r\n",
        "注意：输入等其他约束也可能导致系统欠驱动。\r\n",
        "3. \r\n",
        "\r\n"
      ]
    }
  ]
}